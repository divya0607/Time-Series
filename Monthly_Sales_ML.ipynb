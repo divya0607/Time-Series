{
 "cells": [
  {
   "cell_type": "code",
   "execution_count": 1,
   "metadata": {},
   "outputs": [],
   "source": [
    "import pandas as pd\n",
    "from sklearn.linear_model import LinearRegression\n",
    "from sklearn.preprocessing import LabelEncoder\n",
    "from sklearn.metrics import mean_squared_error\n",
    "from sklearn.tree import DecisionTreeRegressor\n",
    "from sklearn.ensemble import RandomForestRegressor\n",
    "import xgboost as xgb\n",
    "from sklearn.model_selection import GridSearchCV\n",
    "from matplotlib import pyplot as plt\n",
    "import numpy as np\n",
    "import math\n",
    "import warnings\n",
    "warnings.filterwarnings(\"ignore\")\n",
    "import seaborn as sns"
   ]
  },
  {
   "cell_type": "code",
   "execution_count": 3,
   "metadata": {},
   "outputs": [],
   "source": [
    "data = pd.read_csv('pharma/salesmonthly.csv',parse_dates=['datum'],index_col='datum')\n",
    "data['Year'] = pd.DatetimeIndex(data.index).year\n",
    "data['Month'] = pd.DatetimeIndex(data.index).month"
   ]
  },
  {
   "cell_type": "code",
   "execution_count": 3,
   "metadata": {},
   "outputs": [
    {
     "data": {
      "text/html": [
       "<div>\n",
       "<style scoped>\n",
       "    .dataframe tbody tr th:only-of-type {\n",
       "        vertical-align: middle;\n",
       "    }\n",
       "\n",
       "    .dataframe tbody tr th {\n",
       "        vertical-align: top;\n",
       "    }\n",
       "\n",
       "    .dataframe thead th {\n",
       "        text-align: right;\n",
       "    }\n",
       "</style>\n",
       "<table border=\"1\" class=\"dataframe\">\n",
       "  <thead>\n",
       "    <tr style=\"text-align: right;\">\n",
       "      <th></th>\n",
       "      <th>M01AB</th>\n",
       "      <th>M01AE</th>\n",
       "      <th>N02BA</th>\n",
       "      <th>N02BE</th>\n",
       "      <th>N05B</th>\n",
       "      <th>N05C</th>\n",
       "      <th>R03</th>\n",
       "      <th>R06</th>\n",
       "      <th>Year</th>\n",
       "      <th>Month</th>\n",
       "    </tr>\n",
       "    <tr>\n",
       "      <th>datum</th>\n",
       "      <th></th>\n",
       "      <th></th>\n",
       "      <th></th>\n",
       "      <th></th>\n",
       "      <th></th>\n",
       "      <th></th>\n",
       "      <th></th>\n",
       "      <th></th>\n",
       "      <th></th>\n",
       "      <th></th>\n",
       "    </tr>\n",
       "  </thead>\n",
       "  <tbody>\n",
       "    <tr>\n",
       "      <th>2014-01-31</th>\n",
       "      <td>127.69</td>\n",
       "      <td>99.090</td>\n",
       "      <td>152.100</td>\n",
       "      <td>878.030</td>\n",
       "      <td>354.0</td>\n",
       "      <td>50.0</td>\n",
       "      <td>112.0</td>\n",
       "      <td>48.2</td>\n",
       "      <td>2014</td>\n",
       "      <td>1</td>\n",
       "    </tr>\n",
       "    <tr>\n",
       "      <th>2014-02-28</th>\n",
       "      <td>133.32</td>\n",
       "      <td>126.050</td>\n",
       "      <td>177.000</td>\n",
       "      <td>1001.900</td>\n",
       "      <td>347.0</td>\n",
       "      <td>31.0</td>\n",
       "      <td>122.0</td>\n",
       "      <td>36.2</td>\n",
       "      <td>2014</td>\n",
       "      <td>2</td>\n",
       "    </tr>\n",
       "    <tr>\n",
       "      <th>2014-03-31</th>\n",
       "      <td>137.44</td>\n",
       "      <td>92.950</td>\n",
       "      <td>147.655</td>\n",
       "      <td>779.275</td>\n",
       "      <td>232.0</td>\n",
       "      <td>20.0</td>\n",
       "      <td>112.0</td>\n",
       "      <td>85.4</td>\n",
       "      <td>2014</td>\n",
       "      <td>3</td>\n",
       "    </tr>\n",
       "    <tr>\n",
       "      <th>2014-04-30</th>\n",
       "      <td>113.10</td>\n",
       "      <td>89.475</td>\n",
       "      <td>130.900</td>\n",
       "      <td>698.500</td>\n",
       "      <td>209.0</td>\n",
       "      <td>18.0</td>\n",
       "      <td>97.0</td>\n",
       "      <td>73.7</td>\n",
       "      <td>2014</td>\n",
       "      <td>4</td>\n",
       "    </tr>\n",
       "    <tr>\n",
       "      <th>2014-05-31</th>\n",
       "      <td>101.79</td>\n",
       "      <td>119.933</td>\n",
       "      <td>132.100</td>\n",
       "      <td>628.780</td>\n",
       "      <td>270.0</td>\n",
       "      <td>23.0</td>\n",
       "      <td>107.0</td>\n",
       "      <td>123.7</td>\n",
       "      <td>2014</td>\n",
       "      <td>5</td>\n",
       "    </tr>\n",
       "  </tbody>\n",
       "</table>\n",
       "</div>"
      ],
      "text/plain": [
       "             M01AB    M01AE    N02BA     N02BE   N05B  N05C    R03    R06  \\\n",
       "datum                                                                       \n",
       "2014-01-31  127.69   99.090  152.100   878.030  354.0  50.0  112.0   48.2   \n",
       "2014-02-28  133.32  126.050  177.000  1001.900  347.0  31.0  122.0   36.2   \n",
       "2014-03-31  137.44   92.950  147.655   779.275  232.0  20.0  112.0   85.4   \n",
       "2014-04-30  113.10   89.475  130.900   698.500  209.0  18.0   97.0   73.7   \n",
       "2014-05-31  101.79  119.933  132.100   628.780  270.0  23.0  107.0  123.7   \n",
       "\n",
       "            Year  Month  \n",
       "datum                    \n",
       "2014-01-31  2014      1  \n",
       "2014-02-28  2014      2  \n",
       "2014-03-31  2014      3  \n",
       "2014-04-30  2014      4  \n",
       "2014-05-31  2014      5  "
      ]
     },
     "execution_count": 3,
     "metadata": {},
     "output_type": "execute_result"
    }
   ],
   "source": [
    "data.head()"
   ]
  },
  {
   "cell_type": "code",
   "execution_count": 4,
   "metadata": {},
   "outputs": [],
   "source": [
    "n_estimators = [int(x) for x in np.linspace(start = 5,stop = 15,num=11)]\n",
    "max_depth = [int(x) for x in np.linspace(3,10,num=7)]"
   ]
  },
  {
   "cell_type": "code",
   "execution_count": 5,
   "metadata": {},
   "outputs": [
    {
     "data": {
      "text/plain": [
       "DatetimeIndex(['2019-05-31', '2019-06-30', '2019-07-31', '2019-08-31',\n",
       "               '2019-09-30', '2019-10-31'],\n",
       "              dtype='datetime64[ns]', name='datum', freq=None)"
      ]
     },
     "execution_count": 5,
     "metadata": {},
     "output_type": "execute_result"
    }
   ],
   "source": [
    "dates = data.index\n",
    "dates[-6:]"
   ]
  },
  {
   "cell_type": "code",
   "execution_count": 6,
   "metadata": {},
   "outputs": [],
   "source": [
    "dict = {}"
   ]
  },
  {
   "cell_type": "markdown",
   "metadata": {},
   "source": [
    "## M01AB "
   ]
  },
  {
   "cell_type": "code",
   "execution_count": 13,
   "metadata": {},
   "outputs": [],
   "source": [
    "cols = [\"M01AB\",\"Year\",\"Month\"]\n",
    "df = data.loc[:,cols]\n",
    "arr_mean = df['M01AB'].rolling(3).mean()\n",
    "df['MA'] = arr_mean\n",
    "df['lag1'] = df['M01AB'].shift(1)\n",
    "df['lag2'] = df['M01AB'].shift(2)\n",
    "df.fillna(0,inplace=True)\n",
    "df = df.reset_index()\n",
    "del df['datum']"
   ]
  },
  {
   "cell_type": "code",
   "execution_count": 14,
   "metadata": {},
   "outputs": [
    {
     "data": {
      "text/html": [
       "<div>\n",
       "<style scoped>\n",
       "    .dataframe tbody tr th:only-of-type {\n",
       "        vertical-align: middle;\n",
       "    }\n",
       "\n",
       "    .dataframe tbody tr th {\n",
       "        vertical-align: top;\n",
       "    }\n",
       "\n",
       "    .dataframe thead th {\n",
       "        text-align: right;\n",
       "    }\n",
       "</style>\n",
       "<table border=\"1\" class=\"dataframe\">\n",
       "  <thead>\n",
       "    <tr style=\"text-align: right;\">\n",
       "      <th></th>\n",
       "      <th>M01AB</th>\n",
       "      <th>Year</th>\n",
       "      <th>Month</th>\n",
       "      <th>MA</th>\n",
       "      <th>lag1</th>\n",
       "      <th>lag2</th>\n",
       "    </tr>\n",
       "  </thead>\n",
       "  <tbody>\n",
       "    <tr>\n",
       "      <th>0</th>\n",
       "      <td>127.69</td>\n",
       "      <td>2014</td>\n",
       "      <td>1</td>\n",
       "      <td>0.000000</td>\n",
       "      <td>0.00</td>\n",
       "      <td>0.00</td>\n",
       "    </tr>\n",
       "    <tr>\n",
       "      <th>1</th>\n",
       "      <td>133.32</td>\n",
       "      <td>2014</td>\n",
       "      <td>2</td>\n",
       "      <td>0.000000</td>\n",
       "      <td>127.69</td>\n",
       "      <td>0.00</td>\n",
       "    </tr>\n",
       "    <tr>\n",
       "      <th>2</th>\n",
       "      <td>137.44</td>\n",
       "      <td>2014</td>\n",
       "      <td>3</td>\n",
       "      <td>132.816667</td>\n",
       "      <td>133.32</td>\n",
       "      <td>127.69</td>\n",
       "    </tr>\n",
       "    <tr>\n",
       "      <th>3</th>\n",
       "      <td>113.10</td>\n",
       "      <td>2014</td>\n",
       "      <td>4</td>\n",
       "      <td>127.953333</td>\n",
       "      <td>137.44</td>\n",
       "      <td>133.32</td>\n",
       "    </tr>\n",
       "    <tr>\n",
       "      <th>4</th>\n",
       "      <td>101.79</td>\n",
       "      <td>2014</td>\n",
       "      <td>5</td>\n",
       "      <td>117.443333</td>\n",
       "      <td>113.10</td>\n",
       "      <td>137.44</td>\n",
       "    </tr>\n",
       "    <tr>\n",
       "      <th>...</th>\n",
       "      <td>...</td>\n",
       "      <td>...</td>\n",
       "      <td>...</td>\n",
       "      <td>...</td>\n",
       "      <td>...</td>\n",
       "      <td>...</td>\n",
       "    </tr>\n",
       "    <tr>\n",
       "      <th>65</th>\n",
       "      <td>151.54</td>\n",
       "      <td>2019</td>\n",
       "      <td>6</td>\n",
       "      <td>160.323333</td>\n",
       "      <td>168.04</td>\n",
       "      <td>161.39</td>\n",
       "    </tr>\n",
       "    <tr>\n",
       "      <th>66</th>\n",
       "      <td>181.00</td>\n",
       "      <td>2019</td>\n",
       "      <td>7</td>\n",
       "      <td>166.860000</td>\n",
       "      <td>151.54</td>\n",
       "      <td>168.04</td>\n",
       "    </tr>\n",
       "    <tr>\n",
       "      <th>67</th>\n",
       "      <td>181.91</td>\n",
       "      <td>2019</td>\n",
       "      <td>8</td>\n",
       "      <td>171.483333</td>\n",
       "      <td>181.00</td>\n",
       "      <td>151.54</td>\n",
       "    </tr>\n",
       "    <tr>\n",
       "      <th>68</th>\n",
       "      <td>161.07</td>\n",
       "      <td>2019</td>\n",
       "      <td>9</td>\n",
       "      <td>174.660000</td>\n",
       "      <td>181.91</td>\n",
       "      <td>181.00</td>\n",
       "    </tr>\n",
       "    <tr>\n",
       "      <th>69</th>\n",
       "      <td>44.37</td>\n",
       "      <td>2019</td>\n",
       "      <td>10</td>\n",
       "      <td>129.116667</td>\n",
       "      <td>161.07</td>\n",
       "      <td>181.91</td>\n",
       "    </tr>\n",
       "  </tbody>\n",
       "</table>\n",
       "<p>70 rows × 6 columns</p>\n",
       "</div>"
      ],
      "text/plain": [
       "     M01AB  Year  Month          MA    lag1    lag2\n",
       "0   127.69  2014      1    0.000000    0.00    0.00\n",
       "1   133.32  2014      2    0.000000  127.69    0.00\n",
       "2   137.44  2014      3  132.816667  133.32  127.69\n",
       "3   113.10  2014      4  127.953333  137.44  133.32\n",
       "4   101.79  2014      5  117.443333  113.10  137.44\n",
       "..     ...   ...    ...         ...     ...     ...\n",
       "65  151.54  2019      6  160.323333  168.04  161.39\n",
       "66  181.00  2019      7  166.860000  151.54  168.04\n",
       "67  181.91  2019      8  171.483333  181.00  151.54\n",
       "68  161.07  2019      9  174.660000  181.91  181.00\n",
       "69   44.37  2019     10  129.116667  161.07  181.91\n",
       "\n",
       "[70 rows x 6 columns]"
      ]
     },
     "execution_count": 14,
     "metadata": {},
     "output_type": "execute_result"
    }
   ],
   "source": [
    "df"
   ]
  },
  {
   "cell_type": "code",
   "execution_count": 15,
   "metadata": {},
   "outputs": [
    {
     "data": {
      "text/plain": [
       "<matplotlib.legend.Legend at 0x24be1b03ca0>"
      ]
     },
     "execution_count": 15,
     "metadata": {},
     "output_type": "execute_result"
    },
    {
     "data": {
      "image/png": "[encoded data removed]",
      "text/plain": [
       "<Figure size 504x216 with 1 Axes>"
      ]
     },
     "metadata": {
      "needs_background": "light"
     },
     "output_type": "display_data"
    }
   ],
   "source": [
    "features = df.drop(['M01AB'],axis=1)\n",
    "target = df['M01AB']\n",
    "x_train = features[:-6]\n",
    "y_train = target[:-6]\n",
    "x_test = features[-6:]\n",
    "y_test = target[-6:]\n",
    "y_test = np.asarray(y_test)\n",
    "lr_model = LinearRegression()\n",
    "lr_model.fit(x_train, y_train)\n",
    "predictions_lr = lr_model.predict(x_test)\n",
    "fig = plt.figure(figsize=(7,3))\n",
    "plt.plot(y_test,label='Real')\n",
    "plt.plot(predictions_lr,label='Forecast')\n",
    "plt.legend()"
   ]
  },
  {
   "cell_type": "code",
   "execution_count": 41,
   "metadata": {},
   "outputs": [
    {
     "name": "stdout",
     "output_type": "stream",
     "text": [
      "23.026081747029963\n"
     ]
    }
   ],
   "source": [
    "rmse_lr = math.sqrt(mean_squared_error(y_test,predictions_lr))\n",
    "dict['LR'] = rmse_lr\n",
    "print(rmse_lr)"
   ]
  },
  {
   "cell_type": "code",
   "execution_count": 17,
   "metadata": {},
   "outputs": [
    {
     "data": {
      "text/plain": [
       "{'max_depth': 3}"
      ]
     },
     "execution_count": 17,
     "metadata": {},
     "output_type": "execute_result"
    }
   ],
   "source": [
    "dt_model = DecisionTreeRegressor(criterion='mse')\n",
    "parameters = {\n",
    "    'max_depth' : max_depth\n",
    "}\n",
    "model = GridSearchCV(dt_model, param_grid=parameters, scoring='neg_mean_absolute_error', cv=10)\n",
    "model.fit(x_train,y_train)\n",
    "model.best_params_"
   ]
  },
  {
   "cell_type": "code",
   "execution_count": 18,
   "metadata": {},
   "outputs": [
    {
     "data": {
      "text/plain": [
       "<matplotlib.legend.Legend at 0x24be1b8df40>"
      ]
     },
     "execution_count": 18,
     "metadata": {},
     "output_type": "execute_result"
    },
    {
     "data": {
      "image/png": "[encoded data removed]",
      "text/plain": [
       "<Figure size 504x216 with 1 Axes>"
      ]
     },
     "metadata": {
      "needs_background": "light"
     },
     "output_type": "display_data"
    }
   ],
   "source": [
    "dt_model = DecisionTreeRegressor(criterion='mse',max_depth=3)\n",
    "dt_model.fit(x_train,y_train)\n",
    "predictions_dt = dt_model.predict(x_test)\n",
    "y_test = np.asarray(y_test)\n",
    "fig = plt.figure(figsize=(7,3))\n",
    "plt.plot(y_test,label='Real')\n",
    "plt.plot(predictions_dt,label='Forecast')\n",
    "plt.legend()"
   ]
  },
  {
   "cell_type": "code",
   "execution_count": 42,
   "metadata": {},
   "outputs": [
    {
     "name": "stdout",
     "output_type": "stream",
     "text": [
      "21.007790942222094\n"
     ]
    }
   ],
   "source": [
    "rmse_dt = math.sqrt(mean_squared_error(y_test,predictions_dt))\n",
    "dict['DT'] = rmse_dt\n",
    "print(rmse_dt)"
   ]
  },
  {
   "cell_type": "code",
   "execution_count": 21,
   "metadata": {},
   "outputs": [
    {
     "data": {
      "text/plain": [
       "{'max_depth': 3, 'n_estimators': 9}"
      ]
     },
     "execution_count": 21,
     "metadata": {},
     "output_type": "execute_result"
    }
   ],
   "source": [
    "rf = RandomForestRegressor(random_state = 1)\n",
    "parameters = {\n",
    "    'n_estimators' : n_estimators,\n",
    "    'max_depth' : max_depth\n",
    "    \n",
    "}\n",
    "\n",
    "model = GridSearchCV(rf, param_grid=parameters, scoring='neg_mean_absolute_error', cv=3)\n",
    "model.fit(x_train,y_train)\n",
    "model.best_params_"
   ]
  },
  {
   "cell_type": "code",
   "execution_count": 20,
   "metadata": {},
   "outputs": [
    {
     "data": {
      "text/plain": [
       "<matplotlib.legend.Legend at 0x24be1be7640>"
      ]
     },
     "execution_count": 20,
     "metadata": {},
     "output_type": "execute_result"
    },
    {
     "data": {
      "image/png": "[encoded data removed]",
      "text/plain": [
       "<Figure size 504x216 with 1 Axes>"
      ]
     },
     "metadata": {
      "needs_background": "light"
     },
     "output_type": "display_data"
    }
   ],
   "source": [
    "rf = RandomForestRegressor(random_state = 1,max_depth = 3,n_estimators = 9)\n",
    "rf.fit(x_train, y_train)\n",
    "predictions_rf = rf.predict(x_test)\n",
    "y_test = np.asarray(y_test)\n",
    "fig = plt.figure(figsize=(7,3))\n",
    "plt.plot(y_test,label='Real')\n",
    "plt.plot(predictions_rf,label='Forecast')\n",
    "plt.legend()"
   ]
  },
  {
   "cell_type": "code",
   "execution_count": 43,
   "metadata": {},
   "outputs": [
    {
     "name": "stdout",
     "output_type": "stream",
     "text": [
      "10.586704654606605\n"
     ]
    }
   ],
   "source": [
    "rmse_rf = math.sqrt(mean_squared_error(y_test,predictions_rf))\n",
    "dict['RF'] = rmse_rf\n",
    "print(rmse_rf)"
   ]
  },
  {
   "cell_type": "code",
   "execution_count": 25,
   "metadata": {},
   "outputs": [
    {
     "data": {
      "text/plain": [
       "{'colsample_bytree': 0.7,\n",
       " 'learning_rate': 0.2,\n",
       " 'max_depth': 7,\n",
       " 'n_estimators': 15}"
      ]
     },
     "execution_count": 25,
     "metadata": {},
     "output_type": "execute_result"
    }
   ],
   "source": [
    "xg = xgb.XGBRegressor(objective = 'reg:squarederror')\n",
    "parameters = {\n",
    "    'n_estimators' : n_estimators,\n",
    "    'max_depth' : max_depth,\n",
    "    'colsample_bytree': [0.5, 0.7],\n",
    "    'learning_rate' : [0.05, 0.10, 0.15, 0.20]\n",
    "    \n",
    "}\n",
    "model = GridSearchCV(xg, param_grid=parameters,cv=3)\n",
    "model.fit(x_train,y_train)\n",
    "model.best_params_"
   ]
  },
  {
   "cell_type": "code",
   "execution_count": 22,
   "metadata": {},
   "outputs": [
    {
     "data": {
      "text/plain": [
       "<matplotlib.legend.Legend at 0x24be1c59700>"
      ]
     },
     "execution_count": 22,
     "metadata": {},
     "output_type": "execute_result"
    },
    {
     "data": {
      "image/png": "[encoded data removed]",
      "text/plain": [
       "<Figure size 576x216 with 1 Axes>"
      ]
     },
     "metadata": {
      "needs_background": "light"
     },
     "output_type": "display_data"
    }
   ],
   "source": [
    "xg = xgb.XGBRegressor(objective = 'reg:squarederror',n_estimators = 15,max_depth = 7,colsample_bytree= 0.7,learning_rate=0.2)\n",
    "xg.fit(x_train,y_train)\n",
    "predictions_xg = xg.predict(x_test)\n",
    "y_test = np.asarray(y_test)\n",
    "fig = plt.figure(figsize=(8,3))\n",
    "plt.plot(y_test,label='Real')\n",
    "plt.plot(predictions_xg,label='Forecast')\n",
    "plt.legend()"
   ]
  },
  {
   "cell_type": "code",
   "execution_count": 44,
   "metadata": {},
   "outputs": [
    {
     "name": "stdout",
     "output_type": "stream",
     "text": [
      "24.557977221761426\n"
     ]
    }
   ],
   "source": [
    "rmse_xg = math.sqrt(mean_squared_error(y_test,predictions_xg))\n",
    "dict['XG'] = rmse_xg\n",
    "print(rmse_xg)"
   ]
  },
  {
   "cell_type": "code",
   "execution_count": 39,
   "metadata": {},
   "outputs": [
    {
     "data": {
      "text/plain": [
       "<matplotlib.legend.Legend at 0x24be31c7fa0>"
      ]
     },
     "execution_count": 39,
     "metadata": {},
     "output_type": "execute_result"
    },
    {
     "data": {
      "image/png": "[encoded data removed]",
      "text/plain": [
       "<Figure size 720x360 with 1 Axes>"
      ]
     },
     "metadata": {
      "needs_background": "light"
     },
     "output_type": "display_data"
    }
   ],
   "source": [
    "fig = plt.figure(figsize=(10,5))\n",
    "plt.plot(predictions_lr,label='Linear Regression')\n",
    "plt.plot(predictions_dt,label='Decission Tree')\n",
    "plt.plot(predictions_rf,label='Random Forest')\n",
    "plt.plot(predictions_xg,label='XG Boost')\n",
    "plt.plot(y_test,label='Real')\n",
    "plt.legend()"
   ]
  },
  {
   "cell_type": "code",
   "execution_count": 52,
   "metadata": {},
   "outputs": [
    {
     "data": {
      "image/png": "[encoded data removed]",
      "text/plain": [
       "<Figure size 576x360 with 1 Axes>"
      ]
     },
     "metadata": {},
     "output_type": "display_data"
    }
   ],
   "source": [
    "plt.figure(figsize=(8,5))\n",
    "sns.set_theme(style='whitegrid')\n",
    "plt.bar(dict.keys(),dict.values())\n",
    "plt.title('Performance Metrics',size=20)\n",
    "plt.xlabel('Models' , size=10)\n",
    "plt.ylabel('RMSE' , size=10)\n",
    "plt.xticks(rotation=30)\n",
    "plt.show()"
   ]
  },
  {
   "cell_type": "markdown",
   "metadata": {},
   "source": [
    "## M01AE"
   ]
  },
  {
   "cell_type": "code",
   "execution_count": 7,
   "metadata": {},
   "outputs": [],
   "source": [
    "cols = [\"M01AE\",\"Year\",\"Month\"]\n",
    "df = data.loc[:,cols]\n",
    "arr_mean = df['M01AE'].rolling(3).mean()\n",
    "df['MA'] = arr_mean\n",
    "df['lag1'] = df['M01AE'].shift(1)\n",
    "df['lag2'] = df['M01AE'].shift(2)\n",
    "df.fillna(0,inplace=True)\n",
    "df = df.reset_index()\n",
    "del df['datum']\n",
    "features = df.drop(['M01AE'],axis=1)\n",
    "target = df['M01AE']\n",
    "x_train = features[:-6]\n",
    "y_train = target[:-6]\n",
    "x_test = features[-6:]\n",
    "y_test = target[-6:]\n",
    "y_test = np.asarray(y_test)"
   ]
  },
  {
   "cell_type": "code",
   "execution_count": 9,
   "metadata": {},
   "outputs": [
    {
     "data": {
      "text/plain": [
       "<matplotlib.legend.Legend at 0x2b72abeb520>"
      ]
     },
     "execution_count": 9,
     "metadata": {},
     "output_type": "execute_result"
    },
    {
     "data": {
      "image/png": "[encoded data removed]",
      "text/plain": [
       "<Figure size 504x216 with 1 Axes>"
      ]
     },
     "metadata": {
      "needs_background": "light"
     },
     "output_type": "display_data"
    }
   ],
   "source": [
    "lr_model = LinearRegression()\n",
    "lr_model.fit(x_train, y_train)\n",
    "predictions_lr = lr_model.predict(x_test)\n",
    "fig = plt.figure(figsize=(7,3))\n",
    "plt.plot(y_test,label='Real')\n",
    "plt.plot(predictions_lr,label='Forecast')\n",
    "plt.legend()"
   ]
  },
  {
   "cell_type": "code",
   "execution_count": 30,
   "metadata": {},
   "outputs": [
    {
     "name": "stdout",
     "output_type": "stream",
     "text": [
      "19.82031129699866\n"
     ]
    }
   ],
   "source": [
    "rmse = math.sqrt(mean_squared_error(y_test,predictions))\n",
    "dict['LR'] = \n",
    "print(rmse)"
   ]
  },
  {
   "cell_type": "code",
   "execution_count": 31,
   "metadata": {},
   "outputs": [
    {
     "data": {
      "text/plain": [
       "{'max_depth': 8}"
      ]
     },
     "execution_count": 31,
     "metadata": {},
     "output_type": "execute_result"
    }
   ],
   "source": [
    "dt_model = DecisionTreeRegressor(criterion='mse')\n",
    "parameters = {\n",
    "    'max_depth' : max_depth\n",
    "}\n",
    "model = GridSearchCV(dt_model, param_grid=parameters, scoring='neg_mean_absolute_error', cv=3)\n",
    "model.fit(x_train,y_train)\n",
    "model.best_params_"
   ]
  },
  {
   "cell_type": "code",
   "execution_count": 32,
   "metadata": {},
   "outputs": [
    {
     "data": {
      "text/plain": [
       "<matplotlib.legend.Legend at 0x288cc83a700>"
      ]
     },
     "execution_count": 32,
     "metadata": {},
     "output_type": "execute_result"
    },
    {
     "data": {
      "image/png": "[encoded data removed]",
      "text/plain": [
       "<Figure size 504x216 with 1 Axes>"
      ]
     },
     "metadata": {
      "needs_background": "light"
     },
     "output_type": "display_data"
    }
   ],
   "source": [
    "dt_model = DecisionTreeRegressor(criterion='mse',max_depth=8)\n",
    "dt_model.fit(x_train,y_train)\n",
    "predictions = dt_model.predict(x_test)\n",
    "y_test = np.asarray(y_test)\n",
    "fig = plt.figure(figsize=(7,3))\n",
    "plt.plot(y_test,label='Real')\n",
    "plt.plot(predictions,label='Forecast')\n",
    "plt.legend()"
   ]
  },
  {
   "cell_type": "code",
   "execution_count": 33,
   "metadata": {},
   "outputs": [
    {
     "name": "stdout",
     "output_type": "stream",
     "text": [
      "28.02950713979828\n"
     ]
    }
   ],
   "source": [
    "rmse = math.sqrt(mean_squared_error(y_test,predictions))\n",
    "print(rmse)"
   ]
  },
  {
   "cell_type": "code",
   "execution_count": 34,
   "metadata": {},
   "outputs": [
    {
     "data": {
      "text/plain": [
       "{'max_depth': 8, 'n_estimators': 15}"
      ]
     },
     "execution_count": 34,
     "metadata": {},
     "output_type": "execute_result"
    }
   ],
   "source": [
    "rf = RandomForestRegressor(random_state = 1)\n",
    "parameters = {\n",
    "    'n_estimators' : n_estimators,\n",
    "    'max_depth' : max_depth\n",
    "    \n",
    "}\n",
    "\n",
    "model = GridSearchCV(rf, param_grid=parameters, scoring='neg_mean_absolute_error', cv=3)\n",
    "model.fit(x_train,y_train)\n",
    "model.best_params_"
   ]
  },
  {
   "cell_type": "code",
   "execution_count": 35,
   "metadata": {},
   "outputs": [
    {
     "data": {
      "text/plain": [
       "<matplotlib.legend.Legend at 0x288cc902040>"
      ]
     },
     "execution_count": 35,
     "metadata": {},
     "output_type": "execute_result"
    },
    {
     "data": {
      "image/png": "[encoded data removed]",
      "text/plain": [
       "<Figure size 504x216 with 1 Axes>"
      ]
     },
     "metadata": {
      "needs_background": "light"
     },
     "output_type": "display_data"
    }
   ],
   "source": [
    "rf = RandomForestRegressor(random_state = 1,max_depth = 8,n_estimators = 15)\n",
    "rf.fit(x_train, y_train)\n",
    "predictions = rf.predict(x_test)\n",
    "y_test = np.asarray(y_test)\n",
    "fig = plt.figure(figsize=(7,3))\n",
    "plt.plot(y_test,label='Real')\n",
    "plt.plot(predictions,label='Forecast')\n",
    "plt.legend()"
   ]
  },
  {
   "cell_type": "code",
   "execution_count": 36,
   "metadata": {},
   "outputs": [
    {
     "name": "stdout",
     "output_type": "stream",
     "text": [
      "26.236587832473795\n"
     ]
    }
   ],
   "source": [
    "rmse = math.sqrt(mean_squared_error(y_test,predictions))\n",
    "print(rmse)"
   ]
  },
  {
   "cell_type": "code",
   "execution_count": 37,
   "metadata": {},
   "outputs": [
    {
     "data": {
      "text/plain": [
       "{'colsample_bytree': 0.7,\n",
       " 'learning_rate': 0.2,\n",
       " 'max_depth': 3,\n",
       " 'n_estimators': 15}"
      ]
     },
     "execution_count": 37,
     "metadata": {},
     "output_type": "execute_result"
    }
   ],
   "source": [
    "xg = xgb.XGBRegressor(objective = 'reg:squarederror')\n",
    "parameters = {\n",
    "    'n_estimators' : n_estimators,\n",
    "    'max_depth' : max_depth,\n",
    "    'colsample_bytree': [0.5, 0.7],\n",
    "    'learning_rate' : [0.05, 0.10, 0.15, 0.20]\n",
    "    \n",
    "}\n",
    "model = GridSearchCV(xg, param_grid=parameters,cv=3)\n",
    "model.fit(x_train,y_train)\n",
    "model.best_params_"
   ]
  },
  {
   "cell_type": "code",
   "execution_count": 38,
   "metadata": {},
   "outputs": [
    {
     "data": {
      "text/plain": [
       "<matplotlib.legend.Legend at 0x288cc8a4370>"
      ]
     },
     "execution_count": 38,
     "metadata": {},
     "output_type": "execute_result"
    },
    {
     "data": {
      "image/png": "[encoded data removed]",
      "text/plain": [
       "<Figure size 576x216 with 1 Axes>"
      ]
     },
     "metadata": {
      "needs_background": "light"
     },
     "output_type": "display_data"
    }
   ],
   "source": [
    "xg = xgb.XGBRegressor(objective = 'reg:squarederror',n_estimators = 15,max_depth = 3,colsample_bytree= 0.7,learning_rate=0.2)\n",
    "xg.fit(x_train,y_train)\n",
    "predictions = xg.predict(x_test)\n",
    "y_test = np.asarray(y_test)\n",
    "fig = plt.figure(figsize=(8,3))\n",
    "plt.plot(y_test,label='Real')\n",
    "plt.plot(predictions,label='Forecast')\n",
    "plt.legend()"
   ]
  },
  {
   "cell_type": "code",
   "execution_count": 39,
   "metadata": {},
   "outputs": [
    {
     "name": "stdout",
     "output_type": "stream",
     "text": [
      "26.55290417465079\n"
     ]
    }
   ],
   "source": [
    "rmse = math.sqrt(mean_squared_error(y_test,predictions))\n",
    "print(rmse)"
   ]
  },
  {
   "cell_type": "markdown",
   "metadata": {},
   "source": [
    "## N02BA"
   ]
  },
  {
   "cell_type": "code",
   "execution_count": 40,
   "metadata": {},
   "outputs": [],
   "source": [
    "cols = [\"N02BA\",\"Year\",\"Month\"]\n",
    "df = data.loc[:,cols]\n",
    "arr_mean = df['N02BA'].rolling(3).mean()\n",
    "df['MA'] = arr_mean\n",
    "df['lag1'] = df['N02BA'].shift(1)\n",
    "df['lag2'] = df['N02BA'].shift(2)\n",
    "df.fillna(0,inplace=True)\n",
    "df = df.reset_index()\n",
    "del df['datum']\n",
    "features = df.drop(['N02BA'],axis=1)\n",
    "target = df['N02BA']\n",
    "x_train = features[:-6]\n",
    "y_train = target[:-6]\n",
    "x_test = features[-6:]\n",
    "y_test = target[-6:]\n",
    "y_test = np.asarray(y_test)"
   ]
  },
  {
   "cell_type": "code",
   "execution_count": 41,
   "metadata": {},
   "outputs": [
    {
     "data": {
      "text/plain": [
       "<matplotlib.legend.Legend at 0x288cc83d970>"
      ]
     },
     "execution_count": 41,
     "metadata": {},
     "output_type": "execute_result"
    },
    {
     "data": {
      "image/png": "[encoded data removed]",
      "text/plain": [
       "<Figure size 504x216 with 1 Axes>"
      ]
     },
     "metadata": {
      "needs_background": "light"
     },
     "output_type": "display_data"
    }
   ],
   "source": [
    "lr_model = LinearRegression()\n",
    "lr_model.fit(x_train, y_train)\n",
    "predictions = lr_model.predict(x_test)\n",
    "fig = plt.figure(figsize=(7,3))\n",
    "plt.plot(y_test,label='Real')\n",
    "plt.plot(predictions,label='Forecast')\n",
    "plt.legend()"
   ]
  },
  {
   "cell_type": "code",
   "execution_count": 42,
   "metadata": {},
   "outputs": [
    {
     "name": "stdout",
     "output_type": "stream",
     "text": [
      "19.607973801204807\n"
     ]
    }
   ],
   "source": [
    "rmse = math.sqrt(mean_squared_error(y_test,predictions))\n",
    "print(rmse)"
   ]
  },
  {
   "cell_type": "code",
   "execution_count": 43,
   "metadata": {},
   "outputs": [
    {
     "data": {
      "text/plain": [
       "{'max_depth': 7}"
      ]
     },
     "execution_count": 43,
     "metadata": {},
     "output_type": "execute_result"
    }
   ],
   "source": [
    "dt_model = DecisionTreeRegressor(criterion='mse')\n",
    "parameters = {\n",
    "    'max_depth' : max_depth\n",
    "}\n",
    "model = GridSearchCV(dt_model, param_grid=parameters, scoring='neg_mean_absolute_error', cv=3)\n",
    "model.fit(x_train,y_train)\n",
    "model.best_params_"
   ]
  },
  {
   "cell_type": "code",
   "execution_count": 44,
   "metadata": {},
   "outputs": [
    {
     "data": {
      "text/plain": [
       "<matplotlib.legend.Legend at 0x288cda77670>"
      ]
     },
     "execution_count": 44,
     "metadata": {},
     "output_type": "execute_result"
    },
    {
     "data": {
      "image/png": "[encoded data removed]",
      "text/plain": [
       "<Figure size 504x216 with 1 Axes>"
      ]
     },
     "metadata": {
      "needs_background": "light"
     },
     "output_type": "display_data"
    }
   ],
   "source": [
    "dt_model = DecisionTreeRegressor(criterion='mse',max_depth=7)\n",
    "dt_model.fit(x_train,y_train)\n",
    "predictions = dt_model.predict(x_test)\n",
    "y_test = np.asarray(y_test)\n",
    "fig = plt.figure(figsize=(7,3))\n",
    "plt.plot(y_test,label='Real')\n",
    "plt.plot(predictions,label='Forecast')\n",
    "plt.legend()"
   ]
  },
  {
   "cell_type": "code",
   "execution_count": 45,
   "metadata": {},
   "outputs": [
    {
     "name": "stdout",
     "output_type": "stream",
     "text": [
      "36.45385210555028\n"
     ]
    }
   ],
   "source": [
    "rmse = math.sqrt(mean_squared_error(y_test,predictions))\n",
    "print(rmse)"
   ]
  },
  {
   "cell_type": "code",
   "execution_count": 46,
   "metadata": {},
   "outputs": [
    {
     "data": {
      "text/plain": [
       "{'max_depth': 4, 'n_estimators': 15}"
      ]
     },
     "execution_count": 46,
     "metadata": {},
     "output_type": "execute_result"
    }
   ],
   "source": [
    "rf = RandomForestRegressor(random_state = 1)\n",
    "parameters = {\n",
    "    'n_estimators' : n_estimators,\n",
    "    'max_depth' : max_depth\n",
    "    \n",
    "}\n",
    "\n",
    "model = GridSearchCV(rf, param_grid=parameters, scoring='neg_mean_absolute_error', cv=3)\n",
    "model.fit(x_train,y_train)\n",
    "model.best_params_"
   ]
  },
  {
   "cell_type": "code",
   "execution_count": 47,
   "metadata": {},
   "outputs": [
    {
     "data": {
      "text/plain": [
       "<matplotlib.legend.Legend at 0x288cda05d00>"
      ]
     },
     "execution_count": 47,
     "metadata": {},
     "output_type": "execute_result"
    },
    {
     "data": {
      "image/png": "[encoded data removed]",
      "text/plain": [
       "<Figure size 504x216 with 1 Axes>"
      ]
     },
     "metadata": {
      "needs_background": "light"
     },
     "output_type": "display_data"
    }
   ],
   "source": [
    "rf = RandomForestRegressor(random_state = 1,max_depth = 4,n_estimators = 15)\n",
    "rf.fit(x_train, y_train)\n",
    "predictions = rf.predict(x_test)\n",
    "y_test = np.asarray(y_test)\n",
    "fig = plt.figure(figsize=(7,3))\n",
    "plt.plot(y_test,label='Real')\n",
    "plt.plot(predictions,label='Forecast')\n",
    "plt.legend()"
   ]
  },
  {
   "cell_type": "code",
   "execution_count": 48,
   "metadata": {},
   "outputs": [
    {
     "name": "stdout",
     "output_type": "stream",
     "text": [
      "31.134602494348137\n"
     ]
    }
   ],
   "source": [
    "rmse = math.sqrt(mean_squared_error(y_test,predictions))\n",
    "print(rmse)"
   ]
  },
  {
   "cell_type": "code",
   "execution_count": 49,
   "metadata": {},
   "outputs": [
    {
     "data": {
      "text/plain": [
       "{'colsample_bytree': 0.5,\n",
       " 'learning_rate': 0.2,\n",
       " 'max_depth': 6,\n",
       " 'n_estimators': 15}"
      ]
     },
     "execution_count": 49,
     "metadata": {},
     "output_type": "execute_result"
    }
   ],
   "source": [
    "xg = xgb.XGBRegressor(objective = 'reg:squarederror')\n",
    "parameters = {\n",
    "    'n_estimators' : n_estimators,\n",
    "    'max_depth' : max_depth,\n",
    "    'colsample_bytree': [0.5, 0.7],\n",
    "    'learning_rate' : [0.05, 0.10, 0.15, 0.20]\n",
    "    \n",
    "}\n",
    "model = GridSearchCV(xg, param_grid=parameters,cv=3)\n",
    "model.fit(x_train,y_train)\n",
    "model.best_params_"
   ]
  },
  {
   "cell_type": "code",
   "execution_count": 50,
   "metadata": {},
   "outputs": [
    {
     "data": {
      "text/plain": [
       "<matplotlib.legend.Legend at 0x288cdab1730>"
      ]
     },
     "execution_count": 50,
     "metadata": {},
     "output_type": "execute_result"
    },
    {
     "data": {
      "image/png": "[encoded data removed]",
      "text/plain": [
       "<Figure size 576x216 with 1 Axes>"
      ]
     },
     "metadata": {
      "needs_background": "light"
     },
     "output_type": "display_data"
    }
   ],
   "source": [
    "xg = xgb.XGBRegressor(objective = 'reg:squarederror',n_estimators = 15,max_depth = 6,colsample_bytree= 0.5,learning_rate=0.2)\n",
    "xg.fit(x_train,y_train)\n",
    "predictions = xg.predict(x_test)\n",
    "y_test = np.asarray(y_test)\n",
    "fig = plt.figure(figsize=(8,3))\n",
    "plt.plot(y_test,label='Real')\n",
    "plt.plot(predictions,label='Forecast')\n",
    "plt.legend()"
   ]
  },
  {
   "cell_type": "code",
   "execution_count": 51,
   "metadata": {},
   "outputs": [
    {
     "name": "stdout",
     "output_type": "stream",
     "text": [
      "30.950868860061522\n"
     ]
    }
   ],
   "source": [
    "rmse = math.sqrt(mean_squared_error(y_test,predictions))\n",
    "print(rmse)"
   ]
  },
  {
   "cell_type": "markdown",
   "metadata": {},
   "source": [
    "## N02BE"
   ]
  },
  {
   "cell_type": "code",
   "execution_count": 53,
   "metadata": {},
   "outputs": [],
   "source": [
    "cols = [\"N02BE\",\"Year\",\"Month\"]\n",
    "df = data.loc[:,cols]\n",
    "arr_mean = df['N02BE'].rolling(3).mean()\n",
    "df['MA'] = arr_mean\n",
    "df['lag1'] = df['N02BE'].shift(1)\n",
    "df['lag2'] = df['N02BE'].shift(2)\n",
    "df.fillna(0,inplace=True)\n",
    "df = df.reset_index()\n",
    "del df['datum']\n",
    "features = df.drop(['N02BE'],axis=1)\n",
    "target = df['N02BE']\n",
    "x_train = features[:-6]\n",
    "y_train = target[:-6]\n",
    "x_test = features[-6:]\n",
    "y_test = target[-6:]\n",
    "y_test = np.asarray(y_test)"
   ]
  },
  {
   "cell_type": "code",
   "execution_count": 54,
   "metadata": {},
   "outputs": [
    {
     "data": {
      "text/plain": [
       "<matplotlib.legend.Legend at 0x288cdc48f40>"
      ]
     },
     "execution_count": 54,
     "metadata": {},
     "output_type": "execute_result"
    },
    {
     "data": {
      "image/png": "[encoded data removed]",
      "text/plain": [
       "<Figure size 504x216 with 1 Axes>"
      ]
     },
     "metadata": {
      "needs_background": "light"
     },
     "output_type": "display_data"
    }
   ],
   "source": [
    "lr_model = LinearRegression()\n",
    "lr_model.fit(x_train, y_train)\n",
    "predictions = lr_model.predict(x_test)\n",
    "fig = plt.figure(figsize=(7,3))\n",
    "plt.plot(y_test,label='Real')\n",
    "plt.plot(predictions,label='Forecast')\n",
    "plt.legend()"
   ]
  },
  {
   "cell_type": "code",
   "execution_count": 55,
   "metadata": {},
   "outputs": [
    {
     "name": "stdout",
     "output_type": "stream",
     "text": [
      "100.70212023373624\n"
     ]
    }
   ],
   "source": [
    "rmse = math.sqrt(mean_squared_error(y_test,predictions))\n",
    "print(rmse)"
   ]
  },
  {
   "cell_type": "code",
   "execution_count": 56,
   "metadata": {},
   "outputs": [
    {
     "data": {
      "text/plain": [
       "{'max_depth': 6}"
      ]
     },
     "execution_count": 56,
     "metadata": {},
     "output_type": "execute_result"
    }
   ],
   "source": [
    "dt_model = DecisionTreeRegressor(criterion='mse')\n",
    "parameters = {\n",
    "    'max_depth' : max_depth\n",
    "}\n",
    "model = GridSearchCV(dt_model, param_grid=parameters, scoring='neg_mean_absolute_error', cv=3)\n",
    "model.fit(x_train,y_train)\n",
    "model.best_params_"
   ]
  },
  {
   "cell_type": "code",
   "execution_count": 57,
   "metadata": {},
   "outputs": [
    {
     "data": {
      "text/plain": [
       "<matplotlib.legend.Legend at 0x288cdc8eee0>"
      ]
     },
     "execution_count": 57,
     "metadata": {},
     "output_type": "execute_result"
    },
    {
     "data": {
      "image/png": "[encoded data removed]",
      "text/plain": [
       "<Figure size 504x216 with 1 Axes>"
      ]
     },
     "metadata": {
      "needs_background": "light"
     },
     "output_type": "display_data"
    }
   ],
   "source": [
    "dt_model = DecisionTreeRegressor(criterion='mse',max_depth=6)\n",
    "dt_model.fit(x_train,y_train)\n",
    "predictions = dt_model.predict(x_test)\n",
    "y_test = np.asarray(y_test)\n",
    "fig = plt.figure(figsize=(7,3))\n",
    "plt.plot(y_test,label='Real')\n",
    "plt.plot(predictions,label='Forecast')\n",
    "plt.legend()"
   ]
  },
  {
   "cell_type": "code",
   "execution_count": 58,
   "metadata": {},
   "outputs": [
    {
     "name": "stdout",
     "output_type": "stream",
     "text": [
      "254.21838405984087\n"
     ]
    }
   ],
   "source": [
    "rmse = math.sqrt(mean_squared_error(y_test,predictions))\n",
    "print(rmse)"
   ]
  },
  {
   "cell_type": "code",
   "execution_count": 59,
   "metadata": {},
   "outputs": [
    {
     "data": {
      "text/plain": [
       "{'max_depth': 6, 'n_estimators': 7}"
      ]
     },
     "execution_count": 59,
     "metadata": {},
     "output_type": "execute_result"
    }
   ],
   "source": [
    "rf = RandomForestRegressor(random_state = 1)\n",
    "parameters = {\n",
    "    'n_estimators' : n_estimators,\n",
    "    'max_depth' : max_depth\n",
    "    \n",
    "}\n",
    "\n",
    "model = GridSearchCV(rf, param_grid=parameters, scoring='neg_mean_absolute_error', cv=3)\n",
    "model.fit(x_train,y_train)\n",
    "model.best_params_"
   ]
  },
  {
   "cell_type": "code",
   "execution_count": 60,
   "metadata": {},
   "outputs": [
    {
     "data": {
      "text/plain": [
       "<matplotlib.legend.Legend at 0x288cdce9460>"
      ]
     },
     "execution_count": 60,
     "metadata": {},
     "output_type": "execute_result"
    },
    {
     "data": {
      "image/png": "[encoded data removed]",
      "text/plain": [
       "<Figure size 504x216 with 1 Axes>"
      ]
     },
     "metadata": {
      "needs_background": "light"
     },
     "output_type": "display_data"
    }
   ],
   "source": [
    "rf = RandomForestRegressor(random_state = 1,max_depth = 6,n_estimators = 7)\n",
    "rf.fit(x_train, y_train)\n",
    "predictions = rf.predict(x_test)\n",
    "y_test = np.asarray(y_test)\n",
    "fig = plt.figure(figsize=(7,3))\n",
    "plt.plot(y_test,label='Real')\n",
    "plt.plot(predictions,label='Forecast')\n",
    "plt.legend()"
   ]
  },
  {
   "cell_type": "code",
   "execution_count": 61,
   "metadata": {},
   "outputs": [
    {
     "name": "stdout",
     "output_type": "stream",
     "text": [
      "281.781489172857\n"
     ]
    }
   ],
   "source": [
    "rmse = math.sqrt(mean_squared_error(y_test,predictions))\n",
    "print(rmse)"
   ]
  },
  {
   "cell_type": "code",
   "execution_count": 62,
   "metadata": {},
   "outputs": [
    {
     "data": {
      "text/plain": [
       "{'colsample_bytree': 0.7,\n",
       " 'learning_rate': 0.2,\n",
       " 'max_depth': 3,\n",
       " 'n_estimators': 15}"
      ]
     },
     "execution_count": 62,
     "metadata": {},
     "output_type": "execute_result"
    }
   ],
   "source": [
    "xg = xgb.XGBRegressor(objective = 'reg:squarederror')\n",
    "parameters = {\n",
    "    'n_estimators' : n_estimators,\n",
    "    'max_depth' : max_depth,\n",
    "    'colsample_bytree': [0.5, 0.7],\n",
    "    'learning_rate' : [0.05, 0.10, 0.15, 0.20]\n",
    "    \n",
    "}\n",
    "model = GridSearchCV(xg, param_grid=parameters,cv=3)\n",
    "model.fit(x_train,y_train)\n",
    "model.best_params_"
   ]
  },
  {
   "cell_type": "code",
   "execution_count": 63,
   "metadata": {},
   "outputs": [
    {
     "data": {
      "text/plain": [
       "<matplotlib.legend.Legend at 0x288cdd14790>"
      ]
     },
     "execution_count": 63,
     "metadata": {},
     "output_type": "execute_result"
    },
    {
     "data": {
      "image/png": "[encoded data removed]",
      "text/plain": [
       "<Figure size 576x216 with 1 Axes>"
      ]
     },
     "metadata": {
      "needs_background": "light"
     },
     "output_type": "display_data"
    }
   ],
   "source": [
    "xg = xgb.XGBRegressor(objective = 'reg:squarederror',n_estimators = 15,max_depth = 3,colsample_bytree= 0.7,learning_rate=0.2)\n",
    "xg.fit(x_train,y_train)\n",
    "predictions = xg.predict(x_test)\n",
    "y_test = np.asarray(y_test)\n",
    "fig = plt.figure(figsize=(8,3))\n",
    "plt.plot(y_test,label='Real')\n",
    "plt.plot(predictions,label='Forecast')\n",
    "plt.legend()"
   ]
  },
  {
   "cell_type": "code",
   "execution_count": 64,
   "metadata": {},
   "outputs": [
    {
     "name": "stdout",
     "output_type": "stream",
     "text": [
      "334.0297145451211\n"
     ]
    }
   ],
   "source": [
    "rmse = math.sqrt(mean_squared_error(y_test,predictions))\n",
    "print(rmse)"
   ]
  },
  {
   "cell_type": "markdown",
   "metadata": {},
   "source": [
    "## N05B"
   ]
  },
  {
   "cell_type": "code",
   "execution_count": 65,
   "metadata": {},
   "outputs": [],
   "source": [
    "cols = [\"N05B\",\"Year\",\"Month\"]\n",
    "df = data.loc[:,cols]\n",
    "arr_mean = df['N05B'].rolling(3).mean()\n",
    "df['MA'] = arr_mean\n",
    "df['lag1'] = df['N05B'].shift(1)\n",
    "df['lag2'] = df['N05B'].shift(2)\n",
    "df.fillna(0,inplace=True)\n",
    "df = df.reset_index()\n",
    "del df['datum']\n",
    "features = df.drop(['N05B'],axis=1)\n",
    "target = df['N05B']\n",
    "x_train = features[:-6]\n",
    "y_train = target[:-6]\n",
    "x_test = features[-6:]\n",
    "y_test = target[-6:]\n",
    "y_test = np.asarray(y_test)"
   ]
  },
  {
   "cell_type": "code",
   "execution_count": 66,
   "metadata": {},
   "outputs": [
    {
     "data": {
      "text/plain": [
       "<matplotlib.legend.Legend at 0x288cdda3d60>"
      ]
     },
     "execution_count": 66,
     "metadata": {},
     "output_type": "execute_result"
    },
    {
     "data": {
      "image/png": "[encoded data removed]",
      "text/plain": [
       "<Figure size 504x216 with 1 Axes>"
      ]
     },
     "metadata": {
      "needs_background": "light"
     },
     "output_type": "display_data"
    }
   ],
   "source": [
    "lr_model = LinearRegression()\n",
    "lr_model.fit(x_train, y_train)\n",
    "predictions = lr_model.predict(x_test)\n",
    "fig = plt.figure(figsize=(7,3))\n",
    "plt.plot(y_test,label='Real')\n",
    "plt.plot(predictions,label='Forecast')\n",
    "plt.legend()"
   ]
  },
  {
   "cell_type": "code",
   "execution_count": 67,
   "metadata": {},
   "outputs": [
    {
     "name": "stdout",
     "output_type": "stream",
     "text": [
      "38.04904672566507\n"
     ]
    }
   ],
   "source": [
    "rmse = math.sqrt(mean_squared_error(y_test,predictions))\n",
    "print(rmse)"
   ]
  },
  {
   "cell_type": "code",
   "execution_count": 68,
   "metadata": {},
   "outputs": [
    {
     "data": {
      "text/plain": [
       "{'max_depth': 10}"
      ]
     },
     "execution_count": 68,
     "metadata": {},
     "output_type": "execute_result"
    }
   ],
   "source": [
    "dt_model = DecisionTreeRegressor(criterion='mse')\n",
    "parameters = {\n",
    "    'max_depth' : max_depth\n",
    "}\n",
    "model = GridSearchCV(dt_model, param_grid=parameters, scoring='neg_mean_absolute_error', cv=3)\n",
    "model.fit(x_train,y_train)\n",
    "model.best_params_"
   ]
  },
  {
   "cell_type": "code",
   "execution_count": 69,
   "metadata": {},
   "outputs": [
    {
     "data": {
      "text/plain": [
       "<matplotlib.legend.Legend at 0x288cd9a7d00>"
      ]
     },
     "execution_count": 69,
     "metadata": {},
     "output_type": "execute_result"
    },
    {
     "data": {
      "image/png": "[encoded data removed]",
      "text/plain": [
       "<Figure size 504x216 with 1 Axes>"
      ]
     },
     "metadata": {
      "needs_background": "light"
     },
     "output_type": "display_data"
    }
   ],
   "source": [
    "dt_model = DecisionTreeRegressor(criterion='mse',max_depth=10)\n",
    "dt_model.fit(x_train,y_train)\n",
    "predictions = dt_model.predict(x_test)\n",
    "y_test = np.asarray(y_test)\n",
    "fig = plt.figure(figsize=(7,3))\n",
    "plt.plot(y_test,label='Real')\n",
    "plt.plot(predictions,label='Forecast')\n",
    "plt.legend()"
   ]
  },
  {
   "cell_type": "code",
   "execution_count": 70,
   "metadata": {},
   "outputs": [
    {
     "name": "stdout",
     "output_type": "stream",
     "text": [
      "108.83194996568486\n"
     ]
    }
   ],
   "source": [
    "rmse = math.sqrt(mean_squared_error(y_test,predictions))\n",
    "print(rmse)"
   ]
  },
  {
   "cell_type": "code",
   "execution_count": 71,
   "metadata": {},
   "outputs": [
    {
     "data": {
      "text/plain": [
       "{'max_depth': 7, 'n_estimators': 13}"
      ]
     },
     "execution_count": 71,
     "metadata": {},
     "output_type": "execute_result"
    }
   ],
   "source": [
    "rf = RandomForestRegressor(random_state = 1)\n",
    "parameters = {\n",
    "    'n_estimators' : n_estimators,\n",
    "    'max_depth' : max_depth\n",
    "    \n",
    "}\n",
    "\n",
    "model = GridSearchCV(rf, param_grid=parameters, scoring='neg_mean_absolute_error', cv=3)\n",
    "model.fit(x_train,y_train)\n",
    "model.best_params_"
   ]
  },
  {
   "cell_type": "code",
   "execution_count": 72,
   "metadata": {},
   "outputs": [
    {
     "data": {
      "text/plain": [
       "<matplotlib.legend.Legend at 0x288cd97b070>"
      ]
     },
     "execution_count": 72,
     "metadata": {},
     "output_type": "execute_result"
    },
    {
     "data": {
      "image/png": "[encoded data removed]",
      "text/plain": [
       "<Figure size 504x216 with 1 Axes>"
      ]
     },
     "metadata": {
      "needs_background": "light"
     },
     "output_type": "display_data"
    }
   ],
   "source": [
    "rf = RandomForestRegressor(random_state = 1,max_depth = 7,n_estimators = 13)\n",
    "rf.fit(x_train, y_train)\n",
    "predictions = rf.predict(x_test)\n",
    "y_test = np.asarray(y_test)\n",
    "fig = plt.figure(figsize=(7,3))\n",
    "plt.plot(y_test,label='Real')\n",
    "plt.plot(predictions,label='Forecast')\n",
    "plt.legend()"
   ]
  },
  {
   "cell_type": "code",
   "execution_count": 73,
   "metadata": {},
   "outputs": [
    {
     "name": "stdout",
     "output_type": "stream",
     "text": [
      "47.60263242377897\n"
     ]
    }
   ],
   "source": [
    "rmse = math.sqrt(mean_squared_error(y_test,predictions))\n",
    "print(rmse)"
   ]
  },
  {
   "cell_type": "code",
   "execution_count": 74,
   "metadata": {},
   "outputs": [
    {
     "data": {
      "text/plain": [
       "{'colsample_bytree': 0.5,\n",
       " 'learning_rate': 0.15,\n",
       " 'max_depth': 4,\n",
       " 'n_estimators': 15}"
      ]
     },
     "execution_count": 74,
     "metadata": {},
     "output_type": "execute_result"
    }
   ],
   "source": [
    "xg = xgb.XGBRegressor(objective = 'reg:squarederror')\n",
    "parameters = {\n",
    "    'n_estimators' : n_estimators,\n",
    "    'max_depth' : max_depth,\n",
    "    'colsample_bytree': [0.5, 0.7],\n",
    "    'learning_rate' : [0.05, 0.10, 0.15, 0.20]\n",
    "    \n",
    "}\n",
    "model = GridSearchCV(xg, param_grid=parameters,cv=3)\n",
    "model.fit(x_train,y_train)\n",
    "model.best_params_"
   ]
  },
  {
   "cell_type": "code",
   "execution_count": 75,
   "metadata": {},
   "outputs": [
    {
     "data": {
      "text/plain": [
       "<matplotlib.legend.Legend at 0x288cddd6af0>"
      ]
     },
     "execution_count": 75,
     "metadata": {},
     "output_type": "execute_result"
    },
    {
     "data": {
      "image/png": "[encoded data removed]",
      "text/plain": [
       "<Figure size 576x216 with 1 Axes>"
      ]
     },
     "metadata": {
      "needs_background": "light"
     },
     "output_type": "display_data"
    }
   ],
   "source": [
    "xg = xgb.XGBRegressor(objective = 'reg:squarederror',n_estimators = 15,max_depth = 4,colsample_bytree= 0.5,learning_rate=0.15)\n",
    "xg.fit(x_train,y_train)\n",
    "predictions = xg.predict(x_test)\n",
    "y_test = np.asarray(y_test)\n",
    "fig = plt.figure(figsize=(8,3))\n",
    "plt.plot(y_test,label='Real')\n",
    "plt.plot(predictions,label='Forecast')\n",
    "plt.legend()"
   ]
  },
  {
   "cell_type": "code",
   "execution_count": 76,
   "metadata": {},
   "outputs": [
    {
     "name": "stdout",
     "output_type": "stream",
     "text": [
      "56.060147531728994\n"
     ]
    }
   ],
   "source": [
    "rmse = math.sqrt(mean_squared_error(y_test,predictions))\n",
    "print(rmse)"
   ]
  },
  {
   "cell_type": "markdown",
   "metadata": {},
   "source": [
    "## N05C"
   ]
  },
  {
   "cell_type": "code",
   "execution_count": 77,
   "metadata": {},
   "outputs": [],
   "source": [
    "cols = [\"N05C\",\"Year\",\"Month\"]\n",
    "df = data.loc[:,cols]\n",
    "arr_mean = df['N05C'].rolling(3).mean()\n",
    "df['MA'] = arr_mean\n",
    "df['lag1'] = df['N05C'].shift(1)\n",
    "df['lag2'] = df['N05C'].shift(2)\n",
    "df.fillna(0,inplace=True)\n",
    "df = df.reset_index()\n",
    "del df['datum']\n",
    "features = df.drop(['N05C'],axis=1)\n",
    "target = df['N05C']\n",
    "x_train = features[:-6]\n",
    "y_train = target[:-6]\n",
    "x_test = features[-6:]\n",
    "y_test = target[-6:]\n",
    "y_test = np.asarray(y_test)"
   ]
  },
  {
   "cell_type": "code",
   "execution_count": 78,
   "metadata": {},
   "outputs": [
    {
     "data": {
      "text/plain": [
       "<matplotlib.legend.Legend at 0x288cdf93f70>"
      ]
     },
     "execution_count": 78,
     "metadata": {},
     "output_type": "execute_result"
    },
    {
     "data": {
      "image/png": "[encoded data removed]",
      "text/plain": [
       "<Figure size 504x216 with 1 Axes>"
      ]
     },
     "metadata": {
      "needs_background": "light"
     },
     "output_type": "display_data"
    }
   ],
   "source": [
    "lr_model = LinearRegression()\n",
    "lr_model.fit(x_train, y_train)\n",
    "predictions = lr_model.predict(x_test)\n",
    "fig = plt.figure(figsize=(7,3))\n",
    "plt.plot(y_test,label='Real')\n",
    "plt.plot(predictions,label='Forecast')\n",
    "plt.legend()"
   ]
  },
  {
   "cell_type": "code",
   "execution_count": 79,
   "metadata": {},
   "outputs": [
    {
     "name": "stdout",
     "output_type": "stream",
     "text": [
      "5.770027609413602\n"
     ]
    }
   ],
   "source": [
    "rmse = math.sqrt(mean_squared_error(y_test,predictions))\n",
    "print(rmse)"
   ]
  },
  {
   "cell_type": "code",
   "execution_count": 80,
   "metadata": {},
   "outputs": [
    {
     "data": {
      "text/plain": [
       "{'max_depth': 5}"
      ]
     },
     "execution_count": 80,
     "metadata": {},
     "output_type": "execute_result"
    }
   ],
   "source": [
    "dt_model = DecisionTreeRegressor(criterion='mse')\n",
    "parameters = {\n",
    "    'max_depth' : max_depth\n",
    "}\n",
    "model = GridSearchCV(dt_model, param_grid=parameters, scoring='neg_mean_absolute_error', cv=3)\n",
    "model.fit(x_train,y_train)\n",
    "model.best_params_"
   ]
  },
  {
   "cell_type": "code",
   "execution_count": 81,
   "metadata": {},
   "outputs": [
    {
     "data": {
      "text/plain": [
       "<matplotlib.legend.Legend at 0x288cdf40fa0>"
      ]
     },
     "execution_count": 81,
     "metadata": {},
     "output_type": "execute_result"
    },
    {
     "data": {
      "image/png": "[encoded data removed]",
      "text/plain": [
       "<Figure size 504x216 with 1 Axes>"
      ]
     },
     "metadata": {
      "needs_background": "light"
     },
     "output_type": "display_data"
    }
   ],
   "source": [
    "dt_model = DecisionTreeRegressor(criterion='mse',max_depth=5)\n",
    "dt_model.fit(x_train,y_train)\n",
    "predictions = dt_model.predict(x_test)\n",
    "y_test = np.asarray(y_test)\n",
    "fig = plt.figure(figsize=(7,3))\n",
    "plt.plot(y_test,label='Real')\n",
    "plt.plot(predictions,label='Forecast')\n",
    "plt.legend()"
   ]
  },
  {
   "cell_type": "code",
   "execution_count": 82,
   "metadata": {},
   "outputs": [
    {
     "name": "stdout",
     "output_type": "stream",
     "text": [
      "4.616969999173488\n"
     ]
    }
   ],
   "source": [
    "rmse = math.sqrt(mean_squared_error(y_test,predictions))\n",
    "print(rmse)"
   ]
  },
  {
   "cell_type": "code",
   "execution_count": 83,
   "metadata": {},
   "outputs": [
    {
     "data": {
      "text/plain": [
       "{'max_depth': 5, 'n_estimators': 15}"
      ]
     },
     "execution_count": 83,
     "metadata": {},
     "output_type": "execute_result"
    }
   ],
   "source": [
    "rf = RandomForestRegressor(random_state = 1)\n",
    "parameters = {\n",
    "    'n_estimators' : n_estimators,\n",
    "    'max_depth' : max_depth\n",
    "    \n",
    "}\n",
    "\n",
    "model = GridSearchCV(rf, param_grid=parameters, scoring='neg_mean_absolute_error', cv=3)\n",
    "model.fit(x_train,y_train)\n",
    "model.best_params_"
   ]
  },
  {
   "cell_type": "code",
   "execution_count": 84,
   "metadata": {},
   "outputs": [
    {
     "data": {
      "text/plain": [
       "<matplotlib.legend.Legend at 0x288cdf00490>"
      ]
     },
     "execution_count": 84,
     "metadata": {},
     "output_type": "execute_result"
    },
    {
     "data": {
      "image/png": "[encoded data removed]",
      "text/plain": [
       "<Figure size 504x216 with 1 Axes>"
      ]
     },
     "metadata": {
      "needs_background": "light"
     },
     "output_type": "display_data"
    }
   ],
   "source": [
    "rf = RandomForestRegressor(random_state = 1,max_depth = 5,n_estimators = 15)\n",
    "rf.fit(x_train, y_train)\n",
    "predictions = rf.predict(x_test)\n",
    "y_test = np.asarray(y_test)\n",
    "fig = plt.figure(figsize=(7,3))\n",
    "plt.plot(y_test,label='Real')\n",
    "plt.plot(predictions,label='Forecast')\n",
    "plt.legend()"
   ]
  },
  {
   "cell_type": "code",
   "execution_count": 85,
   "metadata": {},
   "outputs": [
    {
     "name": "stdout",
     "output_type": "stream",
     "text": [
      "4.487365476147137\n"
     ]
    }
   ],
   "source": [
    "rmse = math.sqrt(mean_squared_error(y_test,predictions))\n",
    "print(rmse)"
   ]
  },
  {
   "cell_type": "code",
   "execution_count": 86,
   "metadata": {},
   "outputs": [
    {
     "data": {
      "text/plain": [
       "{'colsample_bytree': 0.7,\n",
       " 'learning_rate': 0.2,\n",
       " 'max_depth': 6,\n",
       " 'n_estimators': 15}"
      ]
     },
     "execution_count": 86,
     "metadata": {},
     "output_type": "execute_result"
    }
   ],
   "source": [
    "xg = xgb.XGBRegressor(objective = 'reg:squarederror')\n",
    "parameters = {\n",
    "    'n_estimators' : n_estimators,\n",
    "    'max_depth' : max_depth,\n",
    "    'colsample_bytree': [0.5, 0.7],\n",
    "    'learning_rate' : [0.05, 0.10, 0.15, 0.20]\n",
    "    \n",
    "}\n",
    "model = GridSearchCV(xg, param_grid=parameters,cv=3)\n",
    "model.fit(x_train,y_train)\n",
    "model.best_params_"
   ]
  },
  {
   "cell_type": "code",
   "execution_count": 87,
   "metadata": {},
   "outputs": [
    {
     "data": {
      "text/plain": [
       "<matplotlib.legend.Legend at 0x288ce002f40>"
      ]
     },
     "execution_count": 87,
     "metadata": {},
     "output_type": "execute_result"
    },
    {
     "data": {
      "image/png": "[encoded data removed]",
      "text/plain": [
       "<Figure size 576x216 with 1 Axes>"
      ]
     },
     "metadata": {
      "needs_background": "light"
     },
     "output_type": "display_data"
    }
   ],
   "source": [
    "xg = xgb.XGBRegressor(objective = 'reg:squarederror',n_estimators = 15,max_depth = 6,colsample_bytree= 0.7,learning_rate=0.2)\n",
    "xg.fit(x_train,y_train)\n",
    "predictions = xg.predict(x_test)\n",
    "y_test = np.asarray(y_test)\n",
    "fig = plt.figure(figsize=(8,3))\n",
    "plt.plot(y_test,label='Real')\n",
    "plt.plot(predictions,label='Forecast')\n",
    "plt.legend()"
   ]
  },
  {
   "cell_type": "code",
   "execution_count": 88,
   "metadata": {},
   "outputs": [
    {
     "name": "stdout",
     "output_type": "stream",
     "text": [
      "4.723711827634389\n"
     ]
    }
   ],
   "source": [
    "rmse = math.sqrt(mean_squared_error(y_test,predictions))\n",
    "print(rmse)"
   ]
  },
  {
   "cell_type": "markdown",
   "metadata": {},
   "source": [
    "## R03 "
   ]
  },
  {
   "cell_type": "code",
   "execution_count": 89,
   "metadata": {},
   "outputs": [],
   "source": [
    "cols = [\"R03\",\"Year\",\"Month\"]\n",
    "df = data.loc[:,cols]\n",
    "arr_mean = df['R03'].rolling(3).mean()\n",
    "df['MA'] = arr_mean\n",
    "df['lag1'] = df['R03'].shift(1)\n",
    "df['lag2'] = df['R03'].shift(2)\n",
    "df.fillna(0,inplace=True)\n",
    "df = df.reset_index()\n",
    "del df['datum']\n",
    "features = df.drop(['R03'],axis=1)\n",
    "target = df['R03']\n",
    "x_train = features[:-6]\n",
    "y_train = target[:-6]\n",
    "x_test = features[-6:]\n",
    "y_test = target[-6:]\n",
    "y_test = np.asarray(y_test)"
   ]
  },
  {
   "cell_type": "code",
   "execution_count": 90,
   "metadata": {},
   "outputs": [
    {
     "data": {
      "text/plain": [
       "<matplotlib.legend.Legend at 0x288ce1946a0>"
      ]
     },
     "execution_count": 90,
     "metadata": {},
     "output_type": "execute_result"
    },
    {
     "data": {
      "image/png": "[encoded data removed]",
      "text/plain": [
       "<Figure size 504x216 with 1 Axes>"
      ]
     },
     "metadata": {
      "needs_background": "light"
     },
     "output_type": "display_data"
    }
   ],
   "source": [
    "lr_model = LinearRegression()\n",
    "lr_model.fit(x_train, y_train)\n",
    "predictions = lr_model.predict(x_test)\n",
    "fig = plt.figure(figsize=(7,3))\n",
    "plt.plot(y_test,label='Real')\n",
    "plt.plot(predictions,label='Forecast')\n",
    "plt.legend()"
   ]
  },
  {
   "cell_type": "code",
   "execution_count": 91,
   "metadata": {},
   "outputs": [
    {
     "name": "stdout",
     "output_type": "stream",
     "text": [
      "12.706142214138024\n"
     ]
    }
   ],
   "source": [
    "rmse = math.sqrt(mean_squared_error(y_test,predictions))\n",
    "print(rmse)"
   ]
  },
  {
   "cell_type": "code",
   "execution_count": 92,
   "metadata": {},
   "outputs": [
    {
     "data": {
      "text/plain": [
       "{'max_depth': 3}"
      ]
     },
     "execution_count": 92,
     "metadata": {},
     "output_type": "execute_result"
    }
   ],
   "source": [
    "dt_model = DecisionTreeRegressor(criterion='mse')\n",
    "parameters = {\n",
    "    'max_depth' : max_depth\n",
    "}\n",
    "model = GridSearchCV(dt_model, param_grid=parameters, scoring='neg_mean_absolute_error', cv=3)\n",
    "model.fit(x_train,y_train)\n",
    "model.best_params_"
   ]
  },
  {
   "cell_type": "code",
   "execution_count": 93,
   "metadata": {},
   "outputs": [
    {
     "data": {
      "text/plain": [
       "<matplotlib.legend.Legend at 0x288ce0a05b0>"
      ]
     },
     "execution_count": 93,
     "metadata": {},
     "output_type": "execute_result"
    },
    {
     "data": {
      "image/png": "[encoded data removed]",
      "text/plain": [
       "<Figure size 504x216 with 1 Axes>"
      ]
     },
     "metadata": {
      "needs_background": "light"
     },
     "output_type": "display_data"
    }
   ],
   "source": [
    "dt_model = DecisionTreeRegressor(criterion='mse',max_depth=3)\n",
    "dt_model.fit(x_train,y_train)\n",
    "predictions = dt_model.predict(x_test)\n",
    "y_test = np.asarray(y_test)\n",
    "fig = plt.figure(figsize=(7,3))\n",
    "plt.plot(y_test,label='Real')\n",
    "plt.plot(predictions,label='Forecast')\n",
    "plt.legend()"
   ]
  },
  {
   "cell_type": "code",
   "execution_count": 94,
   "metadata": {},
   "outputs": [
    {
     "name": "stdout",
     "output_type": "stream",
     "text": [
      "65.34519014999991\n"
     ]
    }
   ],
   "source": [
    "rmse = math.sqrt(mean_squared_error(y_test,predictions))\n",
    "print(rmse)"
   ]
  },
  {
   "cell_type": "code",
   "execution_count": 95,
   "metadata": {},
   "outputs": [
    {
     "data": {
      "text/plain": [
       "{'max_depth': 3, 'n_estimators': 6}"
      ]
     },
     "execution_count": 95,
     "metadata": {},
     "output_type": "execute_result"
    }
   ],
   "source": [
    "rf = RandomForestRegressor(random_state = 1)\n",
    "parameters = {\n",
    "    'n_estimators' : n_estimators,\n",
    "    'max_depth' : max_depth\n",
    "    \n",
    "}\n",
    "\n",
    "model = GridSearchCV(rf, param_grid=parameters, scoring='neg_mean_absolute_error', cv=3)\n",
    "model.fit(x_train,y_train)\n",
    "model.best_params_"
   ]
  },
  {
   "cell_type": "code",
   "execution_count": 96,
   "metadata": {},
   "outputs": [
    {
     "data": {
      "text/plain": [
       "<matplotlib.legend.Legend at 0x288ce12fee0>"
      ]
     },
     "execution_count": 96,
     "metadata": {},
     "output_type": "execute_result"
    },
    {
     "data": {
      "image/png": "[encoded data removed]",
      "text/plain": [
       "<Figure size 504x216 with 1 Axes>"
      ]
     },
     "metadata": {
      "needs_background": "light"
     },
     "output_type": "display_data"
    }
   ],
   "source": [
    "rf = RandomForestRegressor(random_state = 1,max_depth = 3,n_estimators = 6)\n",
    "rf.fit(x_train, y_train)\n",
    "predictions = rf.predict(x_test)\n",
    "y_test = np.asarray(y_test)\n",
    "fig = plt.figure(figsize=(7,3))\n",
    "plt.plot(y_test,label='Real')\n",
    "plt.plot(predictions,label='Forecast')\n",
    "plt.legend()"
   ]
  },
  {
   "cell_type": "code",
   "execution_count": 97,
   "metadata": {},
   "outputs": [
    {
     "name": "stdout",
     "output_type": "stream",
     "text": [
      "72.40781669372608\n"
     ]
    }
   ],
   "source": [
    "rmse = math.sqrt(mean_squared_error(y_test,predictions))\n",
    "print(rmse)"
   ]
  },
  {
   "cell_type": "code",
   "execution_count": 98,
   "metadata": {},
   "outputs": [
    {
     "data": {
      "text/plain": [
       "{'colsample_bytree': 0.7,\n",
       " 'learning_rate': 0.2,\n",
       " 'max_depth': 3,\n",
       " 'n_estimators': 15}"
      ]
     },
     "execution_count": 98,
     "metadata": {},
     "output_type": "execute_result"
    }
   ],
   "source": [
    "xg = xgb.XGBRegressor(objective = 'reg:squarederror')\n",
    "parameters = {\n",
    "    'n_estimators' : n_estimators,\n",
    "    'max_depth' : max_depth,\n",
    "    'colsample_bytree': [0.5, 0.7],\n",
    "    'learning_rate' : [0.05, 0.10, 0.15, 0.20]\n",
    "    \n",
    "}\n",
    "model = GridSearchCV(xg, param_grid=parameters,cv=3)\n",
    "model.fit(x_train,y_train)\n",
    "model.best_params_"
   ]
  },
  {
   "cell_type": "code",
   "execution_count": 99,
   "metadata": {},
   "outputs": [
    {
     "data": {
      "text/plain": [
       "<matplotlib.legend.Legend at 0x288ce10ae20>"
      ]
     },
     "execution_count": 99,
     "metadata": {},
     "output_type": "execute_result"
    },
    {
     "data": {
      "image/png": "[encoded data removed]",
      "text/plain": [
       "<Figure size 576x216 with 1 Axes>"
      ]
     },
     "metadata": {
      "needs_background": "light"
     },
     "output_type": "display_data"
    }
   ],
   "source": [
    "xg = xgb.XGBRegressor(objective = 'reg:squarederror',n_estimators = 15,max_depth = 3,colsample_bytree= 0.7,learning_rate=0.2)\n",
    "xg.fit(x_train,y_train)\n",
    "predictions = xg.predict(x_test)\n",
    "y_test = np.asarray(y_test)\n",
    "fig = plt.figure(figsize=(8,3))\n",
    "plt.plot(y_test,label='Real')\n",
    "plt.plot(predictions,label='Forecast')\n",
    "plt.legend()"
   ]
  },
  {
   "cell_type": "code",
   "execution_count": 100,
   "metadata": {},
   "outputs": [
    {
     "name": "stdout",
     "output_type": "stream",
     "text": [
      "85.68488582888169\n"
     ]
    }
   ],
   "source": [
    "rmse = math.sqrt(mean_squared_error(y_test,predictions))\n",
    "print(rmse)"
   ]
  },
  {
   "cell_type": "markdown",
   "metadata": {},
   "source": [
    "## R06"
   ]
  },
  {
   "cell_type": "code",
   "execution_count": 101,
   "metadata": {},
   "outputs": [],
   "source": [
    "cols = [\"R06\",\"Year\",\"Month\"]\n",
    "df = data.loc[:,cols]\n",
    "arr_mean = df['R06'].rolling(3).mean()\n",
    "df['MA'] = arr_mean\n",
    "df['lag1'] = df['R06'].shift(1)\n",
    "df['lag2'] = df['R06'].shift(2)\n",
    "df.fillna(0,inplace=True)\n",
    "df = df.reset_index()\n",
    "del df['datum']\n",
    "features = df.drop(['R06'],axis=1)\n",
    "target = df['R06']\n",
    "x_train = features[:-6]\n",
    "y_train = target[:-6]\n",
    "x_test = features[-6:]\n",
    "y_test = target[-6:]\n",
    "y_test = np.asarray(y_test)"
   ]
  },
  {
   "cell_type": "code",
   "execution_count": 102,
   "metadata": {},
   "outputs": [
    {
     "data": {
      "text/plain": [
       "<matplotlib.legend.Legend at 0x288cdde0490>"
      ]
     },
     "execution_count": 102,
     "metadata": {},
     "output_type": "execute_result"
    },
    {
     "data": {
      "image/png": "[encoded data removed]",
      "text/plain": [
       "<Figure size 504x216 with 1 Axes>"
      ]
     },
     "metadata": {
      "needs_background": "light"
     },
     "output_type": "display_data"
    }
   ],
   "source": [
    "lr_model = LinearRegression()\n",
    "lr_model.fit(x_train, y_train)\n",
    "predictions = lr_model.predict(x_test)\n",
    "fig = plt.figure(figsize=(7,3))\n",
    "plt.plot(y_test,label='Real')\n",
    "plt.plot(predictions,label='Forecast')\n",
    "plt.legend()"
   ]
  },
  {
   "cell_type": "code",
   "execution_count": 103,
   "metadata": {},
   "outputs": [
    {
     "name": "stdout",
     "output_type": "stream",
     "text": [
      "8.946217071900017\n"
     ]
    }
   ],
   "source": [
    "rmse = math.sqrt(mean_squared_error(y_test,predictions))\n",
    "print(rmse)"
   ]
  },
  {
   "cell_type": "code",
   "execution_count": 104,
   "metadata": {},
   "outputs": [
    {
     "data": {
      "text/plain": [
       "{'max_depth': 3}"
      ]
     },
     "execution_count": 104,
     "metadata": {},
     "output_type": "execute_result"
    }
   ],
   "source": [
    "dt_model = DecisionTreeRegressor(criterion='mse')\n",
    "parameters = {\n",
    "    'max_depth' : max_depth\n",
    "}\n",
    "model = GridSearchCV(dt_model, param_grid=parameters, scoring='neg_mean_absolute_error', cv=3)\n",
    "model.fit(x_train,y_train)\n",
    "model.best_params_"
   ]
  },
  {
   "cell_type": "code",
   "execution_count": 105,
   "metadata": {},
   "outputs": [
    {
     "data": {
      "text/plain": [
       "<matplotlib.legend.Legend at 0x288ce1e2fd0>"
      ]
     },
     "execution_count": 105,
     "metadata": {},
     "output_type": "execute_result"
    },
    {
     "data": {
      "image/png": "[encoded data removed]",
      "text/plain": [
       "<Figure size 504x216 with 1 Axes>"
      ]
     },
     "metadata": {
      "needs_background": "light"
     },
     "output_type": "display_data"
    }
   ],
   "source": [
    "dt_model = DecisionTreeRegressor(criterion='mse',max_depth=3)\n",
    "dt_model.fit(x_train,y_train)\n",
    "predictions = dt_model.predict(x_test)\n",
    "y_test = np.asarray(y_test)\n",
    "fig = plt.figure(figsize=(7,3))\n",
    "plt.plot(y_test,label='Real')\n",
    "plt.plot(predictions,label='Forecast')\n",
    "plt.legend()"
   ]
  },
  {
   "cell_type": "code",
   "execution_count": 106,
   "metadata": {},
   "outputs": [
    {
     "name": "stdout",
     "output_type": "stream",
     "text": [
      "36.32093340062439\n"
     ]
    }
   ],
   "source": [
    "rmse = math.sqrt(mean_squared_error(y_test,predictions))\n",
    "print(rmse)"
   ]
  },
  {
   "cell_type": "code",
   "execution_count": 107,
   "metadata": {},
   "outputs": [
    {
     "data": {
      "text/plain": [
       "{'max_depth': 7, 'n_estimators': 9}"
      ]
     },
     "execution_count": 107,
     "metadata": {},
     "output_type": "execute_result"
    }
   ],
   "source": [
    "rf = RandomForestRegressor(random_state = 1)\n",
    "parameters = {\n",
    "    'n_estimators' : n_estimators,\n",
    "    'max_depth' : max_depth\n",
    "    \n",
    "}\n",
    "\n",
    "model = GridSearchCV(rf, param_grid=parameters, scoring='neg_mean_absolute_error', cv=3)\n",
    "model.fit(x_train,y_train)\n",
    "model.best_params_"
   ]
  },
  {
   "cell_type": "code",
   "execution_count": 108,
   "metadata": {},
   "outputs": [
    {
     "data": {
      "text/plain": [
       "<matplotlib.legend.Legend at 0x288ce283ac0>"
      ]
     },
     "execution_count": 108,
     "metadata": {},
     "output_type": "execute_result"
    },
    {
     "data": {
      "image/png": "[encoded data removed]",
      "text/plain": [
       "<Figure size 504x216 with 1 Axes>"
      ]
     },
     "metadata": {
      "needs_background": "light"
     },
     "output_type": "display_data"
    }
   ],
   "source": [
    "rf = RandomForestRegressor(random_state = 1,max_depth = 7,n_estimators = 9)\n",
    "rf.fit(x_train, y_train)\n",
    "predictions = rf.predict(x_test)\n",
    "y_test = np.asarray(y_test)\n",
    "fig = plt.figure(figsize=(7,3))\n",
    "plt.plot(y_test,label='Real')\n",
    "plt.plot(predictions,label='Forecast')\n",
    "plt.legend()"
   ]
  },
  {
   "cell_type": "code",
   "execution_count": 109,
   "metadata": {},
   "outputs": [
    {
     "name": "stdout",
     "output_type": "stream",
     "text": [
      "32.01341567096224\n"
     ]
    }
   ],
   "source": [
    "rmse = math.sqrt(mean_squared_error(y_test,predictions))\n",
    "print(rmse)"
   ]
  },
  {
   "cell_type": "code",
   "execution_count": 110,
   "metadata": {},
   "outputs": [
    {
     "data": {
      "text/plain": [
       "{'colsample_bytree': 0.7,\n",
       " 'learning_rate': 0.2,\n",
       " 'max_depth': 3,\n",
       " 'n_estimators': 15}"
      ]
     },
     "execution_count": 110,
     "metadata": {},
     "output_type": "execute_result"
    }
   ],
   "source": [
    "xg = xgb.XGBRegressor(objective = 'reg:squarederror')\n",
    "parameters = {\n",
    "    'n_estimators' : n_estimators,\n",
    "    'max_depth' : max_depth,\n",
    "    'colsample_bytree': [0.5, 0.7],\n",
    "    'learning_rate' : [0.05, 0.10, 0.15, 0.20]\n",
    "    \n",
    "}\n",
    "model = GridSearchCV(xg, param_grid=parameters,cv=3)\n",
    "model.fit(x_train,y_train)\n",
    "model.best_params_"
   ]
  },
  {
   "cell_type": "code",
   "execution_count": 111,
   "metadata": {},
   "outputs": [
    {
     "data": {
      "text/plain": [
       "<matplotlib.legend.Legend at 0x288ce2ba5b0>"
      ]
     },
     "execution_count": 111,
     "metadata": {},
     "output_type": "execute_result"
    },
    {
     "data": {
      "image/png": "[encoded data removed]",
      "text/plain": [
       "<Figure size 576x216 with 1 Axes>"
      ]
     },
     "metadata": {
      "needs_background": "light"
     },
     "output_type": "display_data"
    }
   ],
   "source": [
    "xg = xgb.XGBRegressor(objective = 'reg:squarederror',n_estimators = 15,max_depth = 3,colsample_bytree= 0.7,learning_rate=0.2)\n",
    "xg.fit(x_train,y_train)\n",
    "predictions = xg.predict(x_test)\n",
    "y_test = np.asarray(y_test)\n",
    "fig = plt.figure(figsize=(8,3))\n",
    "plt.plot(y_test,label='Real')\n",
    "plt.plot(predictions,label='Forecast')\n",
    "plt.legend()"
   ]
  },
  {
   "cell_type": "code",
   "execution_count": 112,
   "metadata": {},
   "outputs": [
    {
     "name": "stdout",
     "output_type": "stream",
     "text": [
      "30.481257509129655\n"
     ]
    }
   ],
   "source": [
    "rmse = math.sqrt(mean_squared_error(y_test,predictions))\n",
    "print(rmse)"
   ]
  },
  {
   "cell_type": "code",
   "execution_count": null,
   "metadata": {},
   "outputs": [],
   "source": []
  }
 ],
 "metadata": {
  "kernelspec": {
   "display_name": "Python 3",
   "language": "python",
   "name": "python3"
  },
  "language_info": {
   "codemirror_mode": {
    "name": "ipython",
    "version": 3
   },
   "file_extension": ".py",
   "mimetype": "text/x-python",
   "name": "python",
   "nbconvert_exporter": "python",
   "pygments_lexer": "ipython3",
   "version": "3.8.5"
  }
 },
 "nbformat": 4,
 "nbformat_minor": 4
}
